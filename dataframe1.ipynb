{
  "cells": [
    {
      "cell_type": "markdown",
      "metadata": {
        "id": "view-in-github",
        "colab_type": "text"
      },
      "source": [
        "<a href=\"https://colab.research.google.com/github/kuldeep27396/Saprk-DataFrame-concepts/blob/main/dataframe1.ipynb\" target=\"_parent\"><img src=\"https://colab.research.google.com/assets/colab-badge.svg\" alt=\"Open In Colab\"/></a>"
      ]
    },
    {
      "cell_type": "code",
      "execution_count": null,
      "id": "36de1a0b",
      "metadata": {
        "id": "36de1a0b"
      },
      "outputs": [],
      "source": [
        "#importing pyspark\n",
        "import pyspark"
      ]
    },
    {
      "cell_type": "code",
      "execution_count": null,
      "id": "659a8ade",
      "metadata": {
        "id": "659a8ade"
      },
      "outputs": [],
      "source": [
        "#importing sparksession\n",
        "from pyspark.sql import SparkSession"
      ]
    },
    {
      "cell_type": "code",
      "execution_count": null,
      "id": "02faf3e7",
      "metadata": {
        "id": "02faf3e7"
      },
      "outputs": [],
      "source": [
        "#creating a sparksession object and providing appName \n",
        "spark=SparkSession.builder.appName(\"business_case\").getOrCreate()"
      ]
    },
    {
      "cell_type": "code",
      "execution_count": null,
      "id": "d30f7ec2",
      "metadata": {
        "id": "d30f7ec2"
      },
      "outputs": [],
      "source": [
        "#spark.stop()"
      ]
    },
    {
      "cell_type": "code",
      "execution_count": null,
      "id": "2a7f7ec3",
      "metadata": {
        "id": "2a7f7ec3"
      },
      "outputs": [],
      "source": [
        "#To create dataframe form External datasets\n",
        "AirlineDF = spark.read.option(\"header\", \"true\").csv(\"airlines1.csv\")"
      ]
    },
    {
      "cell_type": "code",
      "execution_count": null,
      "id": "b418d362",
      "metadata": {
        "id": "b418d362"
      },
      "outputs": [],
      "source": [
        "AirlineDF.show()"
      ]
    },
    {
      "cell_type": "code",
      "execution_count": null,
      "id": "71f7c10a",
      "metadata": {
        "id": "71f7c10a"
      },
      "outputs": [],
      "source": [
        "# for all columns\n",
        "AirlineDF.columns"
      ]
    },
    {
      "cell_type": "markdown",
      "id": "1c03fdc9",
      "metadata": {
        "id": "1c03fdc9"
      },
      "source": [
        "# create multiple dataframes as per data information"
      ]
    },
    {
      "cell_type": "code",
      "execution_count": null,
      "id": "40ba7073",
      "metadata": {
        "id": "40ba7073"
      },
      "outputs": [],
      "source": [
        "AirlineTimeInfo = AirlineDF.select(\"_c0\",\"Year\",\"Quarter\", \"Month\", \"DayofMonth\", \"DayofWeek\" , \"FlightDate\" )\n",
        "AirlineInfo = AirlineDF.select(\"_c0\",\"Reporting_Airline\",\"DOT_ID_Reporting_Airline\", \"IATA_CODE_Reporting_Airline\", \"Tail_Number\", \"Flight_Number_Reporting_Airline\" )\n",
        "AirlineOriginInfo = AirlineDF.select(\"_c0\",\"OriginAirportID\",\"OriginAirportSeqID\", \"OriginCityMarketID\", \"Origin\", \"OriginCityName\" , \"OriginState\", \"OriginStateFips\", \"OriginStateName\", \"OriginWac\" )\n",
        "AirlineDestinationInfo = AirlineDF.select(\"_c0\",\"DestAirportID\",\"DestAirportSeqID\", \"DestCityMarketID\", \"Dest\", \"DestCityName\" , \"DestState\", \"DestStateFips\", \"DestStateName\", \"DestWac\" )\n",
        "AirlineDepartureInfo = AirlineDF.select(\"_c0\",\"CRSDepTime\",\"DepTime\", \"DepDelay\", \"DepDelayMinutes\", \"DepDel15\" , \"DepartureDelayGroups\", \"DepTimeBlk\", \"TaxiOut\", \"WheelsOff\" )\n",
        "AirlineArrivalInfo = AirlineDF.select(\"_c0\",\"WheelsOn\",\"TaxiIn\", \"CRSArrTime\", \"ArrTime\", \"ArrDelay\" , \"ArrDelayMinutes\", \"ArrDel15\", \"ArrivalDelayGroups\", \"ArrTimeBlk\" )\n",
        "AirlineCanDivInfo = AirlineDF.select(\"_c0\",\"Cancelled\",\"CancellationCode\", \"Diverted\" )\n",
        "AirlineSummry = AirlineDF.select(\"_c0\",\"CRSElapsedTime\",\"ActualElapsedTime\", \"AirTime\", \"Flights\", \"Distance\" , \"DistanceGroup\" )\n",
        "AirlineDelayInfo = AirlineDF.select(\"_c0\",\"CarrierDelay\",\"WeatherDelay\", \"NASDelay\", \"SecurityDelay\", \"LateAircraftDelay\" ) \n"
      ]
    },
    {
      "cell_type": "code",
      "execution_count": null,
      "id": "0507aeb8",
      "metadata": {
        "id": "0507aeb8"
      },
      "outputs": [],
      "source": [
        "#AirlineTimeInfo.summary().show()\n",
        "AirlineTimeInfo.show()"
      ]
    },
    {
      "cell_type": "code",
      "execution_count": null,
      "id": "130f190f",
      "metadata": {
        "id": "130f190f"
      },
      "outputs": [],
      "source": [
        "# calculate total no of flights\n",
        "AirlineTimeInfo.select('_c0').count()"
      ]
    },
    {
      "cell_type": "code",
      "execution_count": null,
      "id": "0dc5dad5",
      "metadata": {
        "id": "0dc5dad5"
      },
      "outputs": [],
      "source": [
        "# select year form 2000 to 2020\n",
        "AirlineTimeInfo.select('Year','FlightDate').filter((AirlineTimeInfo.Year >= 2015) & (AirlineTimeInfo.Year <= 2020)).show()"
      ]
    },
    {
      "cell_type": "code",
      "execution_count": null,
      "id": "89760998",
      "metadata": {
        "id": "89760998"
      },
      "outputs": [],
      "source": [
        "AirlineInfo.show()"
      ]
    },
    {
      "cell_type": "code",
      "execution_count": null,
      "id": "4d362d74",
      "metadata": {
        "id": "4d362d74"
      },
      "outputs": [],
      "source": [
        "#AirlineInfo.select('IATA_CODE_Reporting_Airline').groupBy('IATA_CODE_Reporting_Airline').count().show()\n",
        "## Group data by Carrier which is Reporting_Airline\n",
        "AirlineInfo.select('Reporting_Airline').groupBy('Reporting_Airline').count().show()"
      ]
    },
    {
      "cell_type": "code",
      "execution_count": null,
      "id": "f3c3f607",
      "metadata": {
        "id": "f3c3f607"
      },
      "outputs": [],
      "source": [
        "CarrierDF = spark.read.option(\"header\", \"true\").csv(\"carriers.csv\")"
      ]
    },
    {
      "cell_type": "code",
      "execution_count": null,
      "id": "4d98653f",
      "metadata": {
        "id": "4d98653f"
      },
      "outputs": [],
      "source": [
        "CarrierDF.show(200)"
      ]
    },
    {
      "cell_type": "code",
      "execution_count": null,
      "id": "33e1e0f4",
      "metadata": {
        "id": "33e1e0f4"
      },
      "outputs": [],
      "source": [
        "AirlineOriginInfo.show(5)"
      ]
    },
    {
      "cell_type": "code",
      "execution_count": null,
      "id": "8da78203",
      "metadata": {
        "id": "8da78203"
      },
      "outputs": [],
      "source": [
        "AirlineDestinationInfo.show(5)"
      ]
    },
    {
      "cell_type": "code",
      "execution_count": null,
      "id": "6859c0a8",
      "metadata": {
        "id": "6859c0a8"
      },
      "outputs": [],
      "source": [
        "AirlineDepartureInfo.show(5)"
      ]
    },
    {
      "cell_type": "code",
      "execution_count": null,
      "id": "65a26c56",
      "metadata": {
        "id": "65a26c56"
      },
      "outputs": [],
      "source": [
        "#find flights 15 min or more than 15 min delay departure\n",
        "AirlineDepartureInfo.select('_c0','DepDelayMinutes').filter(\"DepDelayMinutes < 15\").show()"
      ]
    },
    {
      "cell_type": "code",
      "execution_count": null,
      "id": "00926313",
      "metadata": {
        "id": "00926313"
      },
      "outputs": [],
      "source": [
        "# calculate total no of departure delay flights (15 min or more than 15 min delay)\n",
        "AirlineDepartureInfo.select('DepDelayMinutes').filter(\"DepDelayMinutes >= 15\").count()"
      ]
    },
    {
      "cell_type": "code",
      "execution_count": null,
      "id": "b0e483a7",
      "metadata": {
        "scrolled": true,
        "id": "b0e483a7"
      },
      "outputs": [],
      "source": [
        "AirlineArrivalInfo.show(5)"
      ]
    },
    {
      "cell_type": "code",
      "execution_count": null,
      "id": "94529c2d",
      "metadata": {
        "id": "94529c2d"
      },
      "outputs": [],
      "source": [
        "#find flights 15 min or more than 15 min delay Arrive\n",
        "AirlineArrivalInfo.select('_c0','ArrDelayMinutes').filter(\"ArrDelayMinutes >= 15\").show()"
      ]
    },
    {
      "cell_type": "code",
      "execution_count": null,
      "id": "256bbd2b",
      "metadata": {
        "id": "256bbd2b"
      },
      "outputs": [],
      "source": [
        "#calculate total no of Arrival delay flights (15 min or more than 15 min delay)\n",
        "AirlineArrivalInfo.select('ArrDelayMinutes').filter(\"ArrDelayMinutes >= 15\").count()"
      ]
    },
    {
      "cell_type": "code",
      "execution_count": null,
      "id": "94b77598",
      "metadata": {
        "id": "94b77598"
      },
      "outputs": [],
      "source": [
        "AirlineCanDivInfo.show(5)"
      ]
    },
    {
      "cell_type": "code",
      "execution_count": null,
      "id": "73685602",
      "metadata": {
        "id": "73685602"
      },
      "outputs": [],
      "source": [
        "#calculate total number of cancelled flights\n",
        "AirlineCanDivInfo.select('Cancelled').filter(\"Cancelled  == 1\").count()"
      ]
    },
    {
      "cell_type": "code",
      "execution_count": null,
      "id": "cd833dd8",
      "metadata": {
        "id": "cd833dd8"
      },
      "outputs": [],
      "source": [
        "#calculate total number of diverted flights\n",
        "AirlineCanDivInfo.select('Diverted').filter(\"Diverted  == 1\").count()"
      ]
    },
    {
      "cell_type": "code",
      "execution_count": null,
      "id": "47d8698d",
      "metadata": {
        "id": "47d8698d"
      },
      "outputs": [],
      "source": [
        "AirlineSummry.show(5)"
      ]
    },
    {
      "cell_type": "code",
      "execution_count": null,
      "id": "7c535983",
      "metadata": {
        "id": "7c535983"
      },
      "outputs": [],
      "source": [
        "AirlineDelayInfo.show(5)"
      ]
    },
    {
      "cell_type": "code",
      "execution_count": null,
      "id": "054763f8",
      "metadata": {
        "id": "054763f8"
      },
      "outputs": [],
      "source": [
        "#calculate total no of CarrierDelay\n",
        "AirlineDelayInfo.select('CarrierDelay').filter(\"CarrierDelay > 0\").count()"
      ]
    },
    {
      "cell_type": "code",
      "execution_count": null,
      "id": "93db772e",
      "metadata": {
        "id": "93db772e"
      },
      "outputs": [],
      "source": [
        "#calculate total no of WeatherDelay\n",
        "AirlineDelayInfo.select('WeatherDelay').filter(\"WeatherDelay > 0\").count()"
      ]
    },
    {
      "cell_type": "code",
      "execution_count": null,
      "id": "025b8f92",
      "metadata": {
        "id": "025b8f92"
      },
      "outputs": [],
      "source": [
        "#calculate total no of NASDelay\n",
        "AirlineDelayInfo.select('NASDelay').filter(\"NASDelay > 0\").count()"
      ]
    },
    {
      "cell_type": "code",
      "execution_count": null,
      "id": "67335d6b",
      "metadata": {
        "id": "67335d6b"
      },
      "outputs": [],
      "source": [
        "#calculate total no of SecurityDelay\n",
        "AirlineDelayInfo.select('SecurityDelay').filter(\"SecurityDelay > 0\").count()"
      ]
    },
    {
      "cell_type": "code",
      "execution_count": null,
      "id": "41410fe8",
      "metadata": {
        "id": "41410fe8"
      },
      "outputs": [],
      "source": [
        "#calculate total no of LateAircraftDelay\n",
        "AirlineDelayInfo.select('LateAircraftDelay').filter(\"LateAircraftDelay > 0\").count()"
      ]
    },
    {
      "cell_type": "markdown",
      "id": "68329eea",
      "metadata": {
        "id": "68329eea"
      },
      "source": [
        "# Joins "
      ]
    },
    {
      "cell_type": "code",
      "execution_count": null,
      "id": "087bd850",
      "metadata": {
        "id": "087bd850"
      },
      "outputs": [],
      "source": [
        "# join two dataframe \n",
        "AirlineTimeInfo.join(AirlineInfo,AirlineTimeInfo._c0 ==  AirlineInfo._c0).show(2)"
      ]
    },
    {
      "cell_type": "code",
      "execution_count": null,
      "id": "acee4d71",
      "metadata": {
        "scrolled": false,
        "id": "acee4d71"
      },
      "outputs": [],
      "source": [
        "# join three dataframe\n",
        "AirlineTimeInfo.join(AirlineInfo,[\"_c0\"]).join(AirlineCanDivInfo,AirlineTimeInfo[\"_c0\"] == AirlineCanDivInfo[\"_c0\"]).show(2)"
      ]
    },
    {
      "cell_type": "code",
      "execution_count": null,
      "id": "eb2286a3",
      "metadata": {
        "id": "eb2286a3"
      },
      "outputs": [],
      "source": [
        "#join two dataframe query\n",
        "DelayDF1 = AirlineTimeInfo.select('_c0','Year').filter((AirlineTimeInfo.Year >= 2000) & (AirlineTimeInfo.Year <= 2020)) \\\n",
        ".join(AirlineInfo.select('_c0','Reporting_Airline').groupBy('Reporting_Airline').count() \\\n",
        "      ,AirlineTimeInfo._c0 ==  AirlineInfo._c0,\"inner\").withColumnRenamed(\"count\", \"Total Flights\")"
      ]
    },
    {
      "cell_type": "code",
      "execution_count": null,
      "id": "be8171a1",
      "metadata": {
        "scrolled": true,
        "id": "be8171a1"
      },
      "outputs": [],
      "source": [
        "DelayDF1.show()"
      ]
    },
    {
      "cell_type": "code",
      "execution_count": null,
      "id": "4f1a1b3f",
      "metadata": {
        "id": "4f1a1b3f"
      },
      "outputs": [],
      "source": [
        "#AirlineInfo.select('Reporting_Airline').distinct().show()"
      ]
    },
    {
      "cell_type": "markdown",
      "id": "177ed3a3",
      "metadata": {
        "id": "177ed3a3"
      },
      "source": [
        "# Create DataFrame"
      ]
    },
    {
      "cell_type": "code",
      "execution_count": null,
      "id": "0f0b1325",
      "metadata": {
        "id": "0f0b1325"
      },
      "outputs": [],
      "source": [
        "AirlineDF5 = AirlineDF.select(\"_c0\",\"Year\",\"Quarter\", \"Month\", \"DayofMonth\", \"DayofWeek\" , \\\n",
        "                              \"FlightDate\",\"Reporting_Airline\",\"DOT_ID_Reporting_Airline\", \\\n",
        "                              \"IATA_CODE_Reporting_Airline\", \"Tail_Number\", \"Flight_Number_Reporting_Airline\", \\\n",
        "                              \"OriginAirportID\",\"OriginAirportSeqID\", \"OriginCityMarketID\", \"Origin\", \\\n",
        "                              \"OriginCityName\" , \"OriginState\", \"OriginStateFips\", \"OriginStateName\", \\\n",
        "                              \"OriginWac\",\"DestAirportID\",\"DestAirportSeqID\", \"DestCityMarketID\", \\\n",
        "                              \"Dest\", \"DestCityName\" , \"DestState\", \"DestStateFips\", \"DestStateName\", \\\n",
        "                              \"DestWac\",\"CRSDepTime\",\"DepTime\", \"DepDelay\", \"DepDelayMinutes\", \"DepDel15\" , \\\n",
        "                              \"DepartureDelayGroups\", \"DepTimeBlk\", \"TaxiOut\", \"WheelsOff\",\"WheelsOn\",\"TaxiIn\", \\\n",
        "                              \"CRSArrTime\", \"ArrTime\", \"ArrDelay\" , \"ArrDelayMinutes\", \"ArrDel15\", \\\n",
        "                              \"ArrivalDelayGroups\", \"ArrTimeBlk\",\"Cancelled\",\"CancellationCode\", \\\n",
        "                              \"Diverted\",\"CRSElapsedTime\",\"ActualElapsedTime\", \"AirTime\", \"Flights\", \\\n",
        "                              \"Distance\" , \"DistanceGroup\",\"CarrierDelay\",\"WeatherDelay\", \"NASDelay\", \\\n",
        "                              \"SecurityDelay\", \"LateAircraftDelay\" )"
      ]
    },
    {
      "cell_type": "code",
      "execution_count": null,
      "id": "33a81b9f",
      "metadata": {
        "id": "33a81b9f"
      },
      "outputs": [],
      "source": [
        "#group by carrier and count number of flights in each group\n",
        "#AirlineDF5.select('Year','Reporting_Airline').filter((AirlineDF5.Year >= 2000) & (AirlineDF5.Year <= 2020)) \\\n",
        "#.groupBy('Reporting_Airline').count().show()"
      ]
    },
    {
      "cell_type": "code",
      "execution_count": null,
      "id": "3b82d68e",
      "metadata": {
        "id": "3b82d68e"
      },
      "outputs": [],
      "source": [
        "#AirlineDF5.select('Year','Reporting_Airline').filter((AirlineDF5.Year >= 2000) & (AirlineDF5.Year <= 2020)) \\\n",
        "#.filter(\"Cancelled  == 1\").groupBy('Reporting_Airline').count().show()"
      ]
    },
    {
      "cell_type": "markdown",
      "id": "e1b366fb",
      "metadata": {
        "id": "e1b366fb"
      },
      "source": [
        "# Case Study 1 \n",
        "Departure Delay Report for all flights from year 2000 to 2020 by carrier"
      ]
    },
    {
      "cell_type": "code",
      "execution_count": null,
      "id": "0d148fb5",
      "metadata": {
        "id": "0d148fb5"
      },
      "outputs": [],
      "source": [
        "# calculate total no of flights and  group data by Carrier\n",
        "df1 = AirlineDF5.select('Year','Reporting_Airline') \\\n",
        ".filter((AirlineDF5.Year >= 2000) & (AirlineDF5.Year <= 2020)).groupBy('Reporting_Airline') \\\n",
        ".count().withColumnRenamed(\"count\", \"Total Flights\").orderBy(\"Reporting_Airline\")"
      ]
    },
    {
      "cell_type": "code",
      "execution_count": null,
      "id": "5d562ded",
      "metadata": {
        "id": "5d562ded"
      },
      "outputs": [],
      "source": [
        "df1.show()"
      ]
    },
    {
      "cell_type": "code",
      "execution_count": null,
      "id": "9b9d274e",
      "metadata": {
        "id": "9b9d274e"
      },
      "outputs": [],
      "source": [
        "#Calculate total no of Departure delay flights\n",
        "df2 = AirlineDF5.select('Reporting_Airline','DepDelayMinutes') \\\n",
        ".filter((AirlineDF5.Year >= 2000) & (AirlineDF5.Year <= 2020)) \\\n",
        ".filter(\"DepDelayMinutes >= 10\").groupBy('Reporting_Airline') \\\n",
        ".count().withColumnRenamed(\"count\", \"Total Departure Delay Flights\").orderBy(\"Reporting_Airline\")"
      ]
    },
    {
      "cell_type": "code",
      "execution_count": null,
      "id": "6126af5b",
      "metadata": {
        "id": "6126af5b"
      },
      "outputs": [],
      "source": [
        "df2.show()"
      ]
    },
    {
      "cell_type": "code",
      "execution_count": null,
      "id": "fc044fcd",
      "metadata": {
        "scrolled": true,
        "id": "fc044fcd"
      },
      "outputs": [],
      "source": [
        "# calculate total no. of arrival delay flights\n",
        "df3 = AirlineDF5.select('Reporting_Airline','ArrDelayMinutes') \\\n",
        ".filter((AirlineDF5.Year >= 2000) & (AirlineDF5.Year <= 2020)) \\\n",
        ".filter(\"ArrDelayMinutes >= 10\").groupBy('Reporting_Airline') \\\n",
        ".count().withColumnRenamed(\"count\", \"Total Arrival Delay Flights\").orderBy(\"Reporting_Airline\")"
      ]
    },
    {
      "cell_type": "code",
      "execution_count": null,
      "id": "0a66ebd7",
      "metadata": {
        "id": "0a66ebd7"
      },
      "outputs": [],
      "source": [
        "df3.show()"
      ]
    },
    {
      "cell_type": "code",
      "execution_count": null,
      "id": "3dc16068",
      "metadata": {
        "id": "3dc16068"
      },
      "outputs": [],
      "source": [
        "#calculate total no. of cancelled flights\n",
        "df4 = AirlineDF5.select('Reporting_Airline','Cancelled') \\\n",
        ".filter((AirlineDF5.Year >= 2000) & (AirlineDF5.Year <= 2020)) \\\n",
        ".filter(\"Cancelled  == 1\").groupBy('Reporting_Airline') \\\n",
        ".count().withColumnRenamed(\"count\", \"Total Cancelled Flights\").orderBy(\"Reporting_Airline\")"
      ]
    },
    {
      "cell_type": "code",
      "execution_count": null,
      "id": "d0ac27f5",
      "metadata": {
        "id": "d0ac27f5"
      },
      "outputs": [],
      "source": [
        "df4.show()"
      ]
    },
    {
      "cell_type": "code",
      "execution_count": null,
      "id": "75b606e6",
      "metadata": {
        "id": "75b606e6"
      },
      "outputs": [],
      "source": [
        "# calculate total no. of diverted flights\n",
        "df5 = AirlineDF5.select('Reporting_Airline','Diverted') \\\n",
        ".filter((AirlineDF5.Year >= 2000) & (AirlineDF5.Year <= 2020)) \\\n",
        ".filter(\"Diverted  == 1\").groupBy('Reporting_Airline') \\\n",
        ".count().withColumnRenamed(\"count\", \"Total Diverted Flights\").orderBy(\"Reporting_Airline\")"
      ]
    },
    {
      "cell_type": "code",
      "execution_count": null,
      "id": "9c4134cd",
      "metadata": {
        "id": "9c4134cd"
      },
      "outputs": [],
      "source": [
        "df5.show()"
      ]
    },
    {
      "cell_type": "code",
      "execution_count": null,
      "id": "ce4b1de2",
      "metadata": {
        "id": "ce4b1de2"
      },
      "outputs": [],
      "source": [
        "# calculate total no. of carrier delay flights\n",
        "df6 = AirlineDF5.select('Reporting_Airline','CarrierDelay') \\\n",
        ".filter((AirlineDF5.Year >= 2000) & (AirlineDF5.Year <= 2020)) \\\n",
        ".filter(\"CarrierDelay > 0\").groupBy('Reporting_Airline') \\\n",
        ".count().withColumnRenamed(\"count\", \"Total CarrierDelay Flights\").orderBy(\"Reporting_Airline\")"
      ]
    },
    {
      "cell_type": "code",
      "execution_count": null,
      "id": "438c3330",
      "metadata": {
        "id": "438c3330"
      },
      "outputs": [],
      "source": [
        "df6.show()"
      ]
    },
    {
      "cell_type": "code",
      "execution_count": null,
      "id": "8acd45b0",
      "metadata": {
        "id": "8acd45b0"
      },
      "outputs": [],
      "source": [
        "# calculate total no. of weather delay flights\n",
        "df7 = AirlineDF5.select('Reporting_Airline','WeatherDelay') \\\n",
        ".filter((AirlineDF5.Year >= 2000) & (AirlineDF5.Year <= 2020)) \\\n",
        ".filter(\"WeatherDelay > 0\").groupBy('Reporting_Airline') \\\n",
        ".count().withColumnRenamed(\"count\", \"Total WeatherDelay Flights\").orderBy(\"Reporting_Airline\")"
      ]
    },
    {
      "cell_type": "code",
      "execution_count": null,
      "id": "ecc17790",
      "metadata": {
        "id": "ecc17790"
      },
      "outputs": [],
      "source": [
        "df7.show()"
      ]
    },
    {
      "cell_type": "code",
      "execution_count": null,
      "id": "b79d4931",
      "metadata": {
        "id": "b79d4931"
      },
      "outputs": [],
      "source": [
        "#calculate total no. of NAS delay flights\n",
        "df8 = AirlineDF5.select('Reporting_Airline','NASDelay') \\\n",
        ".filter((AirlineDF5.Year >= 2000) & (AirlineDF5.Year <= 2020)) \\\n",
        ".filter(\"NASDelay > 0\").groupBy('Reporting_Airline') \\\n",
        ".count().withColumnRenamed(\"count\", \"Total NASDelay Flights\").orderBy(\"Reporting_Airline\")"
      ]
    },
    {
      "cell_type": "code",
      "execution_count": null,
      "id": "eaa7b3ba",
      "metadata": {
        "id": "eaa7b3ba"
      },
      "outputs": [],
      "source": [
        "df8.show()"
      ]
    },
    {
      "cell_type": "code",
      "execution_count": null,
      "id": "a8ef3805",
      "metadata": {
        "id": "a8ef3805"
      },
      "outputs": [],
      "source": [
        "#calculate total no. of security delay flights\n",
        "df9 = AirlineDF5.select('Reporting_Airline','SecurityDelay') \\\n",
        ".filter((AirlineDF5.Year >= 2000) & (AirlineDF5.Year <= 2020)) \\\n",
        ".filter(\"SecurityDelay > 0\").groupBy('Reporting_Airline') \\\n",
        ".count().withColumnRenamed(\"count\", \"Total SecurityDelay Flights\").orderBy(\"Reporting_Airline\")"
      ]
    },
    {
      "cell_type": "code",
      "execution_count": null,
      "id": "28eb2d06",
      "metadata": {
        "id": "28eb2d06"
      },
      "outputs": [],
      "source": [
        "df9.show()"
      ]
    },
    {
      "cell_type": "code",
      "execution_count": null,
      "id": "68dfa316",
      "metadata": {
        "id": "68dfa316"
      },
      "outputs": [],
      "source": [
        "# calculate total no. of late aircraft delay flights\n",
        "df10 = AirlineDF5.select('Reporting_Airline','LateAircraftDelay') \\\n",
        ".filter((AirlineDF5.Year >= 2000) & (AirlineDF5.Year <= 2020)) \\\n",
        ".filter(\"LateAircraftDelay > 0\").groupBy('Reporting_Airline') \\\n",
        ".count().withColumnRenamed(\"count\", \"Total LateAircraftDelay Flights\").orderBy(\"Reporting_Airline\")"
      ]
    },
    {
      "cell_type": "code",
      "execution_count": null,
      "id": "24ce4106",
      "metadata": {
        "id": "24ce4106"
      },
      "outputs": [],
      "source": [
        "df10.show()"
      ]
    },
    {
      "cell_type": "code",
      "execution_count": null,
      "id": "4c36f05a",
      "metadata": {
        "scrolled": true,
        "id": "4c36f05a"
      },
      "outputs": [],
      "source": [
        "#df1.join(df2,df1.Reporting_Airline ==  df2.Reporting_Airline,\"inner\").show(2)"
      ]
    },
    {
      "cell_type": "code",
      "execution_count": null,
      "id": "0df40965",
      "metadata": {
        "id": "0df40965"
      },
      "outputs": [],
      "source": [
        "#df1.join(df2,[\"Reporting_Airline\"])\\\n",
        "#.join(df3,df1[\"Reporting_Airline\"] == df3[\"Reporting_Airline\"])\\\n",
        "#.show(2)"
      ]
    },
    {
      "cell_type": "code",
      "execution_count": null,
      "id": "02879b61",
      "metadata": {
        "id": "02879b61"
      },
      "outputs": [],
      "source": [
        "# joining multiple dataframe\n",
        "DelayReport = df1.alias(\"df1\")\\\n",
        ".join(df2.alias(\"df2\"),[\"Reporting_Airline\"])\\\n",
        ".join(df3.alias(\"df3\"),[\"Reporting_Airline\"])\\\n",
        ".join(df4.alias(\"df4\"),[\"Reporting_Airline\"])\\\n",
        ".join(df5.alias(\"df5\"),[\"Reporting_Airline\"])\\\n",
        ".join(df6.alias(\"df6\"),[\"Reporting_Airline\"])\\\n",
        ".join(df7.alias(\"df7\"),[\"Reporting_Airline\"])\\\n",
        ".join(df8.alias(\"df8\"),[\"Reporting_Airline\"])\\\n",
        ".join(df9.alias(\"df9\"),[\"Reporting_Airline\"])\\\n",
        ".join(df10.alias(\"df10\"),[\"Reporting_Airline\"])"
      ]
    },
    {
      "cell_type": "code",
      "execution_count": null,
      "id": "4f45717f",
      "metadata": {
        "id": "4f45717f"
      },
      "outputs": [],
      "source": [
        "#complete delay report\n",
        "DelayReport.show(5)"
      ]
    },
    {
      "cell_type": "code",
      "execution_count": null,
      "id": "6343185b",
      "metadata": {
        "id": "6343185b"
      },
      "outputs": [],
      "source": [
        "#statistics of DelayReport\n",
        "DelayReport.describe().show()"
      ]
    },
    {
      "cell_type": "code",
      "execution_count": null,
      "id": "6f15b313",
      "metadata": {
        "id": "6f15b313"
      },
      "outputs": [],
      "source": [
        "# import windows library\n",
        "import pyspark.sql.functions as f\n",
        "from pyspark.sql.window import Window"
      ]
    },
    {
      "cell_type": "code",
      "execution_count": null,
      "id": "4d087dd6",
      "metadata": {
        "id": "4d087dd6"
      },
      "outputs": [],
      "source": [
        "# calculate result in percentage\n",
        "df123 = DelayReport\\\n",
        ".withColumn('depdelaypercent', f.col('Total Departure Delay Flights')/f.col('Total Flights')*100)\\\n",
        ".withColumn('arrdelaypercent', f.col('Total Arrival Delay Flights')/f.col('Total Flights')*100)\\\n",
        ".withColumn('cancelledpercent', f.col('Total Cancelled Flights')/f.col('Total Flights')*100)"
      ]
    },
    {
      "cell_type": "code",
      "execution_count": null,
      "id": "ae1a9359",
      "metadata": {
        "id": "ae1a9359"
      },
      "outputs": [],
      "source": [
        "#DelayReport.groupBy().max('Total Departure Delay Flights').show()"
      ]
    },
    {
      "cell_type": "code",
      "execution_count": null,
      "id": "7784fbf8",
      "metadata": {
        "id": "7784fbf8"
      },
      "outputs": [],
      "source": [
        "df123.select('Reporting_Airline','Total Flights','depdelaypercent','arrdelaypercent','cancelledpercent').show()"
      ]
    },
    {
      "cell_type": "code",
      "execution_count": null,
      "id": "cfbb02c3",
      "metadata": {
        "id": "cfbb02c3"
      },
      "outputs": [],
      "source": [
        "#use dense rank for find top rankers by any cloumns\n",
        "from pyspark.sql import Window\n",
        "import pyspark.sql.functions as psf\n",
        "wT_Flights = Window.orderBy(psf.desc(\"Total Flights\")) \n",
        "testdf1 = DelayReport.withColumn(\n",
        "    \"Total Flights_rank\", \n",
        "    psf.dense_rank().over(wT_Flights)\n",
        ")"
      ]
    },
    {
      "cell_type": "code",
      "execution_count": null,
      "id": "c0f18127",
      "metadata": {
        "id": "c0f18127"
      },
      "outputs": [],
      "source": [
        "# top 10 Carrier by numbers of flights\n",
        "testdf1.show()"
      ]
    },
    {
      "cell_type": "code",
      "execution_count": null,
      "id": "6d91e83f",
      "metadata": {
        "id": "6d91e83f"
      },
      "outputs": [],
      "source": [
        "testdf1.columns"
      ]
    },
    {
      "cell_type": "code",
      "execution_count": null,
      "id": "d01de35c",
      "metadata": {
        "id": "d01de35c"
      },
      "outputs": [],
      "source": [
        "testdf1.select('Reporting_Airline','Total Flights','Total Flights_rank').show()"
      ]
    },
    {
      "cell_type": "code",
      "execution_count": null,
      "id": "f143cf2e",
      "metadata": {
        "id": "f143cf2e"
      },
      "outputs": [],
      "source": []
    },
    {
      "cell_type": "code",
      "execution_count": null,
      "id": "8797dfb2",
      "metadata": {
        "id": "8797dfb2"
      },
      "outputs": [],
      "source": []
    },
    {
      "cell_type": "code",
      "execution_count": null,
      "id": "ebc4fe30",
      "metadata": {
        "id": "ebc4fe30"
      },
      "outputs": [],
      "source": []
    }
  ],
  "metadata": {
    "kernelspec": {
      "display_name": "Python 3 (ipykernel)",
      "language": "python",
      "name": "python3"
    },
    "language_info": {
      "codemirror_mode": {
        "name": "ipython",
        "version": 3
      },
      "file_extension": ".py",
      "mimetype": "text/x-python",
      "name": "python",
      "nbconvert_exporter": "python",
      "pygments_lexer": "ipython3",
      "version": "3.9.7"
    },
    "colab": {
      "provenance": [],
      "include_colab_link": true
    }
  },
  "nbformat": 4,
  "nbformat_minor": 5
}